{
 "cells": [
  {
   "cell_type": "markdown",
   "metadata": {},
   "source": [
    "# A2.13 - Code Practice IV\n",
    ">\n",
    "> Review: `if` Statements\n",
    ">\n",
    "> Review: `for` Loops\n",
    ">\n",
    "> Review: `while` Loops"
   ]
  },
  {
   "cell_type": "code",
   "execution_count": 4,
   "metadata": {},
   "outputs": [
    {
     "name": "stdout",
     "output_type": "stream",
     "text": [
      "Odd\n"
     ]
    }
   ],
   "source": [
    "# Use `if` statement to find even and odd numbers\n",
    "myvar = 1\n",
    "if myvar % 2 == 0:\n",
    "    print(\"Even\")\n",
    "else:\n",
    "    print(\"Odd\")"
   ]
  },
  {
   "cell_type": "code",
   "execution_count": 17,
   "metadata": {},
   "outputs": [
    {
     "name": "stdout",
     "output_type": "stream",
     "text": [
      "Correct name!\n",
      "Jay\n"
     ]
    }
   ],
   "source": [
    "# Use `for` loop and `if` statement to find the correct name from a list of names\n",
    "names = [\"Willow\", \"Jay\", \"Christopher\"]\n",
    "for name in names:\n",
    "    if name == \"Jay\":\n",
    "        print(\"Correct name!\")\n",
    "        print(name)\n",
    "    else:\n",
    "        pass"
   ]
  },
  {
   "cell_type": "code",
   "execution_count": 28,
   "metadata": {},
   "outputs": [
    {
     "name": "stdout",
     "output_type": "stream",
     "text": [
      "Correct length\n"
     ]
    }
   ],
   "source": [
    "# Use `for` loop and `if` statement to find the correct length of name from a \\\n",
    "# list of names\n",
    "names = [\"Willow\", \"Jay\", \"Christopher\"]\n",
    "for i in names:\n",
    "    if len(i) == 3:\n",
    "        print(\"Correct length\")\n",
    "    else:\n",
    "        pass\n"
   ]
  },
  {
   "cell_type": "code",
   "execution_count": 29,
   "metadata": {},
   "outputs": [
    {
     "name": "stdout",
     "output_type": "stream",
     "text": [
      "Willow is weird, society doesn't undersTAND HER-\n",
      "Willow is weird, society doesn't undersTAND HER-\n",
      "Willow is weird, society doesn't undersTAND HER-\n",
      "Willow is weird, society doesn't undersTAND HER-\n",
      "Willow is weird, society doesn't undersTAND HER-\n",
      "Willow is weird, society doesn't undersTAND HER-\n",
      "Willow is weird, society doesn't undersTAND HER-\n",
      "Willow is weird, society doesn't undersTAND HER-\n",
      "Willow is weird, society doesn't undersTAND HER-\n",
      "Willow is weird, society doesn't undersTAND HER-\n"
     ]
    }
   ],
   "source": [
    "# Use `for` loop to print a statement 10 times\n",
    "for i in range(10):\n",
    "    print(\"Willow is weird, society doesn't undersTAND HER-\")"
   ]
  },
  {
   "cell_type": "code",
   "execution_count": 33,
   "metadata": {},
   "outputs": [
    {
     "name": "stdout",
     "output_type": "stream",
     "text": [
      "Cool gay and pretty\n",
      "Cool and likes fish\n",
      "Cool and likes bugs\n"
     ]
    }
   ],
   "source": [
    "# Use `for` loop to print the values of a dictionary\n",
    "# The dictionary should be at least 3 key-value pairs\n",
    "dct = {\"Willow\": \"Cool gay and pretty\", \"Jay\": \"Cool and likes fish\", \"Christopher\": \"Cool and likes bugs\"}\n",
    "for i in dct:\n",
    "    print(dct[i])"
   ]
  },
  {
   "cell_type": "code",
   "execution_count": 38,
   "metadata": {},
   "outputs": [
    {
     "name": "stdout",
     "output_type": "stream",
     "text": [
      "cownose stingray\n",
      "port jackson shark\n",
      "hillstream loach\n"
     ]
    }
   ],
   "source": [
    "# Use `while` loop that asks for user input three times and then prints it out\n",
    "count = 0\n",
    "favanimals = {}\n",
    "jaybool = True\n",
    "while jaybool:\n",
    "    count += 1\n",
    "    if count >= 3:\n",
    "        jaybool = False\n",
    "    favanimals[count] = input(\"What's your favorite animal?: \")\n",
    "for i in favanimals:\n",
    "    print(favanimals[i])\n"
   ]
  }
 ],
 "metadata": {
  "kernelspec": {
   "display_name": "Python 3.9.12 ('base')",
   "language": "python",
   "name": "python3"
  },
  "language_info": {
   "codemirror_mode": {
    "name": "ipython",
    "version": 3
   },
   "file_extension": ".py",
   "mimetype": "text/x-python",
   "name": "python",
   "nbconvert_exporter": "python",
   "pygments_lexer": "ipython3",
   "version": "3.9.12"
  },
  "orig_nbformat": 4,
  "vscode": {
   "interpreter": {
    "hash": "86d3e2918da12aa44dfb85c028c39ab21deb9c844fe9d3ebd474099b61fdc8ac"
   }
  }
 },
 "nbformat": 4,
 "nbformat_minor": 2
}
