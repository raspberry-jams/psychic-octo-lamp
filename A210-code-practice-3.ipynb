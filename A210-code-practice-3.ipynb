{
 "cells": [
  {
   "cell_type": "markdown",
   "metadata": {},
   "source": [
    "# A2.10 - Code Practice III\n",
    ">\n",
    "> If Statements\n",
    ">"
   ]
  },
  {
   "cell_type": "code",
   "execution_count": null,
   "metadata": {},
   "outputs": [],
   "source": [
    "# Create an if statement with at least:\n",
    "# 1. declare a variable\n",
    "# 2. if statement\n",
    "# 3. elif statement\n",
    "# 4. else statement"
   ]
  },
  {
   "cell_type": "code",
   "execution_count": 2,
   "metadata": {},
   "outputs": [
    {
     "data": {
      "text/plain": [
       "'Jay'"
      ]
     },
     "execution_count": 2,
     "metadata": {},
     "output_type": "execute_result"
    }
   ],
   "source": [
    "# Declare a variable\n",
    "var = \"Jay\"\n",
    "var\n"
   ]
  },
  {
   "cell_type": "code",
   "execution_count": 4,
   "metadata": {},
   "outputs": [
    {
     "name": "stdout",
     "output_type": "stream",
     "text": [
      "a tier\n"
     ]
    }
   ],
   "source": [
    "#If statement/elif statement/else statement\n",
    "var = \"Lemonade\"\n",
    "if var == \"Arizona\":\n",
    "    print(\"b tier\")\n",
    "elif var == \"Lemonade\":\n",
    "    print(\"a tier\")\n",
    "elif var == \"Mango lemonade\":\n",
    "    print(\"s tier\")\n",
    "elif var == \"Sweet tea\":\n",
    "    print(\"a tier\")\n",
    "elif var == \"Coffee\":\n",
    "    print(\"c tier\")\n",
    "\n",
    "else: \n",
    "    print(\"unworthy\")\n"
   ]
  },
  {
   "cell_type": "code",
   "execution_count": null,
   "metadata": {},
   "outputs": [],
   "source": [
    "# Practice Below and Create at Least 4 if statments\n"
   ]
  }
 ],
 "metadata": {
  "kernelspec": {
   "display_name": "Python 3.9.12 ('base')",
   "language": "python",
   "name": "python3"
  },
  "language_info": {
   "codemirror_mode": {
    "name": "ipython",
    "version": 3
   },
   "file_extension": ".py",
   "mimetype": "text/x-python",
   "name": "python",
   "nbconvert_exporter": "python",
   "pygments_lexer": "ipython3",
   "version": "3.9.12"
  },
  "orig_nbformat": 4,
  "vscode": {
   "interpreter": {
    "hash": "86d3e2918da12aa44dfb85c028c39ab21deb9c844fe9d3ebd474099b61fdc8ac"
   }
  }
 },
 "nbformat": 4,
 "nbformat_minor": 2
}
