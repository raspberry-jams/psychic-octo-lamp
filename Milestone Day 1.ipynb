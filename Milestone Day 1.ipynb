{
 "cells": [
  {
   "cell_type": "code",
   "execution_count": 5,
   "metadata": {},
   "outputs": [
    {
     "name": "stdout",
     "output_type": "stream",
     "text": [
      "a||b||c\n",
      "=======\n",
      "d||e||f\n",
      "=======\n",
      "g||h||i\n"
     ]
    }
   ],
   "source": [
    "gameon = True\n",
    "\n",
    "A = \"a\"\n",
    "B = \"b\"\n",
    "C = \"c\"\n",
    "D = \"d\"\n",
    "E = \"e\"\n",
    "F = \"f\"\n",
    "G = \"g\"\n",
    "H = \"h\"\n",
    "I = \"i\"\n",
    "def board():\n",
    "    print(A + \"||\" + B + \"||\" + C)\n",
    "    print(\"=======\")\n",
    "    print(D + \"||\" + E + \"||\" + F)\n",
    "    print(\"=======\")\n",
    "    print(G + \"||\" + H + \"||\" + I)\n",
    "\n",
    "board()"
   ]
  },
  {
   "cell_type": "code",
   "execution_count": null,
   "metadata": {},
   "outputs": [],
   "source": [
    "def wincheck():\n",
    "    "
   ]
  },
  {
   "cell_type": "code",
   "execution_count": 13,
   "metadata": {},
   "outputs": [],
   "source": [
    "def playerturn():\n",
    "    lst = [\"a\", \"b\", \"c\", \"d\", \"e\", \"f\", \"g\", \"h\", \"i\"]\n",
    "    gone = [\"a\", \"b\", \"c\", \"d\", \"e\", \"f\", \"g\", \"h\", \"i\"]\n",
    "    playerxturn = True\n",
    "    board()\n",
    "    spot = input(\"Which space?: \")\n",
    "    if spot in input and spot in gone:\n",
    "        for place in input:\n",
    "            if place == spot:\n",
    "                if playerxturn:\n",
    "                    place = \"x\"\n",
    "                    gone[place] = \"space\"\n",
    "                else:\n",
    "                    place = \"o\"\n",
    "                    gone[place] = \"space\"\n"
   ]
  },
  {
   "cell_type": "code",
   "execution_count": 14,
   "metadata": {},
   "outputs": [
    {
     "name": "stdout",
     "output_type": "stream",
     "text": [
      "a||b||c\n",
      "=======\n",
      "d||e||f\n",
      "=======\n",
      "g||h||i\n"
     ]
    },
    {
     "ename": "TypeError",
     "evalue": "argument of type 'method' is not iterable",
     "output_type": "error",
     "traceback": [
      "\u001b[1;31m---------------------------------------------------------------------------\u001b[0m",
      "\u001b[1;31mTypeError\u001b[0m                                 Traceback (most recent call last)",
      "\u001b[1;32mc:\\Users\\BlueJ\\Downloads\\Milestone Day 1.ipynb Cell 4\u001b[0m in \u001b[0;36m<cell line: 1>\u001b[1;34m()\u001b[0m\n\u001b[1;32m----> <a href='vscode-notebook-cell:/c%3A/Users/BlueJ/Downloads/Milestone%20Day%201.ipynb#W4sZmlsZQ%3D%3D?line=0'>1</a>\u001b[0m playerturn()\n",
      "\u001b[1;32mc:\\Users\\BlueJ\\Downloads\\Milestone Day 1.ipynb Cell 4\u001b[0m in \u001b[0;36mplayerturn\u001b[1;34m()\u001b[0m\n\u001b[0;32m      <a href='vscode-notebook-cell:/c%3A/Users/BlueJ/Downloads/Milestone%20Day%201.ipynb#W4sZmlsZQ%3D%3D?line=4'>5</a>\u001b[0m board()\n\u001b[0;32m      <a href='vscode-notebook-cell:/c%3A/Users/BlueJ/Downloads/Milestone%20Day%201.ipynb#W4sZmlsZQ%3D%3D?line=5'>6</a>\u001b[0m spot \u001b[39m=\u001b[39m \u001b[39minput\u001b[39m(\u001b[39m\"\u001b[39m\u001b[39mWhich space?: \u001b[39m\u001b[39m\"\u001b[39m)\n\u001b[1;32m----> <a href='vscode-notebook-cell:/c%3A/Users/BlueJ/Downloads/Milestone%20Day%201.ipynb#W4sZmlsZQ%3D%3D?line=6'>7</a>\u001b[0m \u001b[39mif\u001b[39;00m spot \u001b[39min\u001b[39;49;00m \u001b[39minput\u001b[39;49m \u001b[39mand\u001b[39;00m spot \u001b[39min\u001b[39;00m gone:\n\u001b[0;32m      <a href='vscode-notebook-cell:/c%3A/Users/BlueJ/Downloads/Milestone%20Day%201.ipynb#W4sZmlsZQ%3D%3D?line=7'>8</a>\u001b[0m     \u001b[39mfor\u001b[39;00m place \u001b[39min\u001b[39;00m \u001b[39minput\u001b[39m:\n\u001b[0;32m      <a href='vscode-notebook-cell:/c%3A/Users/BlueJ/Downloads/Milestone%20Day%201.ipynb#W4sZmlsZQ%3D%3D?line=8'>9</a>\u001b[0m         \u001b[39mif\u001b[39;00m place \u001b[39m==\u001b[39m spot:\n",
      "\u001b[1;31mTypeError\u001b[0m: argument of type 'method' is not iterable"
     ]
    }
   ],
   "source": [
    "playerturn()"
   ]
  }
 ],
 "metadata": {
  "kernelspec": {
   "display_name": "Python 3.9.12 ('base')",
   "language": "python",
   "name": "python3"
  },
  "language_info": {
   "codemirror_mode": {
    "name": "ipython",
    "version": 3
   },
   "file_extension": ".py",
   "mimetype": "text/x-python",
   "name": "python",
   "nbconvert_exporter": "python",
   "pygments_lexer": "ipython3",
   "version": "3.9.12"
  },
  "orig_nbformat": 4,
  "vscode": {
   "interpreter": {
    "hash": "86d3e2918da12aa44dfb85c028c39ab21deb9c844fe9d3ebd474099b61fdc8ac"
   }
  }
 },
 "nbformat": 4,
 "nbformat_minor": 2
}
