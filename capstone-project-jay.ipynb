{
 "cells": [
  {
   "cell_type": "code",
   "execution_count": 8,
   "metadata": {},
   "outputs": [
    {
     "name": "stdout",
     "output_type": "stream",
     "text": [
      "byffi qilfx\n"
     ]
    }
   ],
   "source": [
    "import string\n",
    "\n",
    "plain_text = \"hello world\"\n",
    "shift = 20\n",
    "\n",
    "alphabet = string.ascii_lowercase\n",
    "shifted = alphabet[shift:] + alphabet[:shift]\n",
    "table = str.maketrans(alphabet, shifted)\n",
    "\n",
    "encrypted = plain_text.translate(table)\n",
    "\n",
    "print(encrypted)"
   ]
  },
  {
   "cell_type": "code",
   "execution_count": 9,
   "metadata": {},
   "outputs": [
    {
     "name": "stdout",
     "output_type": "stream",
     "text": [
      "hello world\n"
     ]
    }
   ],
   "source": [
    "import string\n",
    "\n",
    "plain_text = \"byffi qilfx\"\n",
    "shift = 26-20\n",
    "\n",
    "alphabet = string.ascii_lowercase\n",
    "shifted = alphabet[shift:] + alphabet[:shift]\n",
    "table = str.maketrans(alphabet, shifted)\n",
    "\n",
    "encrypted = plain_text.translate(table)\n",
    "\n",
    "print(encrypted)"
   ]
  }
 ],
 "metadata": {
  "kernelspec": {
   "display_name": "Python 3.9.12 ('base')",
   "language": "python",
   "name": "python3"
  },
  "language_info": {
   "codemirror_mode": {
    "name": "ipython",
    "version": 3
   },
   "file_extension": ".py",
   "mimetype": "text/x-python",
   "name": "python",
   "nbconvert_exporter": "python",
   "pygments_lexer": "ipython3",
   "version": "3.9.12"
  },
  "orig_nbformat": 4,
  "vscode": {
   "interpreter": {
    "hash": "86d3e2918da12aa44dfb85c028c39ab21deb9c844fe9d3ebd474099b61fdc8ac"
   }
  }
 },
 "nbformat": 4,
 "nbformat_minor": 2
}
